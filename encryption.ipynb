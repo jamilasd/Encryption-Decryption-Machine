{
 "cells": [
  {
   "cell_type": "markdown",
   "metadata": {},
   "source": [
    "## Encryption Machine\n",
    "### Created by: Jamila Smith-Dell\n",
    "#### April 11, 2021\n",
    "![Windows](encryption_image.png)"
   ]
  },
  {
   "cell_type": "markdown",
   "metadata": {},
   "source": [
    "## Import the relevant libraries"
   ]
  },
  {
   "cell_type": "code",
   "execution_count": 1,
   "metadata": {},
   "outputs": [],
   "source": [
    "import math\n",
    "import random\n",
    "import string"
   ]
  },
  {
   "cell_type": "markdown",
   "metadata": {},
   "source": [
    "## Function that checks if numbers are prime or not\n",
    "This function will be used to check if the user inputted values for p and q are actually prime. If not, it will notify the user that the number is not prime so they can choose again."
   ]
  },
  {
   "cell_type": "code",
   "execution_count": 2,
   "metadata": {},
   "outputs": [],
   "source": [
    "def prime_check(number):\n",
    "    \n",
    "    \"\"\"\n",
    "    This function checks if a number is prime or not, \n",
    "    if the number is greater than 1, and if q is greater than p.\n",
    "    \n",
    "    Arguments: \n",
    "    - Any number\n",
    "    \n",
    "    Outputs:\n",
    "    - Error message if the number is not prime or not greater than 1\n",
    "    - Error message if q is less than p\n",
    "    - Success message if the number is prime\n",
    "    - The boolean of the 'check' variable if the number is prime or not\n",
    "    \n",
    "    \"\"\"\n",
    "    \n",
    "    if number >= 13:\n",
    "        for i in range(2, number):\n",
    "            if number % i == 0:\n",
    "                print(f'{number} is not a prime number.')\n",
    "                check = False\n",
    "                break\n",
    "            else:\n",
    "                print(f'{number} is a prime number, perfect!')\n",
    "                check = True\n",
    "                break\n",
    "    else:\n",
    "        print(f'{number} is not greater than 13.')\n",
    "        check = False\n",
    "        \n",
    "    return check"
   ]
  },
  {
   "cell_type": "markdown",
   "metadata": {},
   "source": [
    "## Ask the user for prime numbers: p & q\n",
    "This while loop will run the prime_check function above to check the user input and prompt for them to input another number if needed."
   ]
  },
  {
   "cell_type": "code",
   "execution_count": 3,
   "metadata": {},
   "outputs": [
    {
     "name": "stdout",
     "output_type": "stream",
     "text": [
      "Please type \"q\" to quit. Please select a prime number (p) that is greater than or equal to 13: 13\n",
      "13 is a prime number, perfect!\n",
      "\n",
      "Please select a prime number (q), greater than p (i.e. 17): 17\n",
      "17 is a prime number, perfect!\n",
      "\n",
      "Great job! p = 13 and q = 17\n"
     ]
    }
   ],
   "source": [
    "p = 1\n",
    "\n",
    "while p != \"q\":\n",
    "    p = input('Please type \"q\" to quit. Please select a prime number (p) that is greater than or equal to 13: ')\n",
    "    if p =='q':\n",
    "        break\n",
    "    else: \n",
    "        p = int(p)\n",
    "        check = prime_check(p)\n",
    "        if check == False:\n",
    "            p = int(input('Please select a prime number (p) greater than or equal to 13: '))\n",
    "        else: \n",
    "            check = True\n",
    "            while check:\n",
    "                q = int(input('\\nPlease select a prime number (q), greater than p (i.e. 17): '))\n",
    "                if q > p:\n",
    "                    check = prime_check(q)\n",
    "                    if check == False:\n",
    "                        q = int(input('\\nPlease select a (q) that is greater than p and is prime (i.e. 17): '))\n",
    "                    else:\n",
    "                        break\n",
    "            print(f'\\nGreat job! p = {p} and q = {q}\\n')            \n",
    "            break"
   ]
  },
  {
   "cell_type": "markdown",
   "metadata": {},
   "source": [
    "## Ask the user for a value for e\n",
    "I will then use a series of if statements to make sure phi_n is not divisible by e and e is greater than 1 and less than phi_n."
   ]
  },
  {
   "cell_type": "code",
   "execution_count": 4,
   "metadata": {},
   "outputs": [
    {
     "name": "stdout",
     "output_type": "stream",
     "text": [
      "Please type \"q\" to quit. Please choose a number greater than 1 and less than 192 (i.e. 5): 5\n",
      "Awesome! There is no greatest common divisor between 192 and 5.\n"
     ]
    }
   ],
   "source": [
    "if p and q:\n",
    "    n = p * q\n",
    "    phi_n = int((p - 1) * (q - 1))\n",
    "else: \n",
    "    default_p = 13\n",
    "    default_q = 17\n",
    "    n = default_p * default_q\n",
    "    phi_n = int((default_p - 1) * (default_q - 1))\n",
    "\n",
    "e = input(f'Please type \"q\" to quit. Please choose a number greater than 1 and less than {phi_n} (i.e. 5): ')\n",
    "\n",
    "check_e = True\n",
    "\n",
    "while check_e:\n",
    "    if e == \"q\":\n",
    "        break\n",
    "    else:\n",
    "        e = int(e)\n",
    "        if e > 1 and e < 10:\n",
    "            if e < phi_n:\n",
    "                if math.gcd(phi_n, e):\n",
    "                    print(f'Awesome! There is no greatest common divisor between {phi_n} and {e}.')\n",
    "                    break\n",
    "                else:\n",
    "                    print('')\n",
    "                    e = int(input(f'Something is wrong. Please choose a different value for e (i.e. 5). '))\n",
    "            else:\n",
    "                e = int(input(f'Something is wrong. Please choose a different value for e (i.e. 5). '))\n",
    "        else:\n",
    "            e = int(input(f'Please choose a value for e that is less than 10 (i.e. 5). '))"
   ]
  },
  {
   "cell_type": "markdown",
   "metadata": {},
   "source": [
    "## Function to calculate the private key (d)\n",
    "Calculate the private key and check to make sure all other importnant encryption variables are integers."
   ]
  },
  {
   "cell_type": "code",
   "execution_count": 5,
   "metadata": {},
   "outputs": [],
   "source": [
    "def private_key():\n",
    "    \"\"\"\n",
    "    This function creates the private key (d) for the encryption machine\n",
    "    and calculates the n and phi_n values as well.\n",
    "    \n",
    "    Arguments: \n",
    "    - None. It uses the values of p, q, and e from the user input above\n",
    "    \n",
    "    Outputs:\n",
    "    - Prime numbers: p and q\n",
    "    - Private key: d\n",
    "    - Other encryption variables: e, n, phi_n, and i\n",
    "    \"\"\"\n",
    "    i = random.randint(1,100)\n",
    "\n",
    "    d = int((i * phi_n + 1) / e)\n",
    "    \n",
    "    return p, q, n, phi_n, e, d, i"
   ]
  },
  {
   "cell_type": "code",
   "execution_count": 6,
   "metadata": {},
   "outputs": [
    {
     "data": {
      "text/plain": [
       "(13, 17, 221, 192, 5, 845, 22)"
      ]
     },
     "execution_count": 6,
     "metadata": {},
     "output_type": "execute_result"
    }
   ],
   "source": [
    "private_key()"
   ]
  },
  {
   "cell_type": "markdown",
   "metadata": {},
   "source": [
    "## Create the Public Key\n",
    "'Letters' is a dictionary with string keys mapped to integer values. The c_list is the list of cipher values that are calculated using the integer values from the dictionary. We will use the c_list as the public key from here on out."
   ]
  },
  {
   "cell_type": "code",
   "execution_count": 7,
   "metadata": {},
   "outputs": [
    {
     "name": "stdout",
     "output_type": "stream",
     "text": [
      "{'a': 1, 'b': 2, 'c': 3, 'd': 4, 'e': 5, 'f': 6, 'g': 7, 'h': 8, 'i': 9, 'j': 10, 'k': 11, 'l': 12, 'm': 13, 'n': 14, 'o': 15, 'p': 16, 'q': 17, 'r': 18, 's': 19, 't': 20, 'u': 21, 'v': 22, 'w': 23, 'x': 24, 'y': 25, 'z': 26, ' ': 27, '.': 28, '’': 29, \"'\": 30, '!': 31, '?': 32, '/': 33, ',': 34, '\"': 35, ':': 36}\n"
     ]
    }
   ],
   "source": [
    "letters = {}\n",
    "value = 0\n",
    "\n",
    "\n",
    "for letter in string.ascii_lowercase:\n",
    "    value += 1\n",
    "    letters[letter] = value\n",
    "\n",
    "#add common punctuation\n",
    "punctuation = [' ','.',\"’\",\"'\",\"!\",\"?\",\"/\",\",\",'\"',\":\"]\n",
    "\n",
    "\n",
    "for punct in punctuation:\n",
    "    value += 1\n",
    "    letters[punct] = value\n",
    "\n",
    "c_list = [] #cipher list\n",
    "\n",
    "for letter in letters:\n",
    "    c = (letters[letter] ** e) % n\n",
    "    c_list.append(c)\n",
    "    \n",
    "print(letters)"
   ]
  },
  {
   "cell_type": "markdown",
   "metadata": {},
   "source": [
    "## Encryption\n",
    "Here the user will input the message that they want encrypted. The result will then be printed as a list that should be copied over to the decryption machine for decryption."
   ]
  },
  {
   "cell_type": "code",
   "execution_count": 8,
   "metadata": {},
   "outputs": [],
   "source": [
    "def return_encryption():\n",
    "    \"\"\"\n",
    "    This function creates the encryption list from the message the user \n",
    "    provides using the cipher list and letters dictionary. \n",
    "    \n",
    "    Arguments: \n",
    "    - User input for the message to encrypt\n",
    "    \n",
    "    Outputs:\n",
    "    - A message telling the use that they encryption was successful\n",
    "    - List of calculated encryption values\n",
    "    \n",
    "    \"\"\"\n",
    "    \n",
    "    encryption = input('What message do you want to encrypt? ').lower()\n",
    "\n",
    "    encrypt_list = []\n",
    "\n",
    "    for value in encryption:\n",
    "        c = (letters[value] ** e) % n\n",
    "        encrypt_list.append(c)\n",
    "\n",
    "    encrypt_list_str = []\n",
    "\n",
    "    for value in encrypt_list:\n",
    "        encrypt_list_str.append(str(value))\n",
    "\n",
    "    encryption_result = ' '.join(encrypt_list_str)\n",
    "    print(f'\\nYour encryption was successful! Here is the result: {encrypt_list} \\n\\n\\n')\n",
    "    \n",
    "    return encrypt_list"
   ]
  },
  {
   "cell_type": "code",
   "execution_count": 9,
   "metadata": {},
   "outputs": [
    {
     "name": "stdout",
     "output_type": "stream",
     "text": [
      "What message do you want to encrypt? hello\n",
      "\n",
      "Your encryption was successful! Here is the result: [60, 31, 207, 207, 19] \n",
      "\n",
      "\n",
      "\n"
     ]
    },
    {
     "data": {
      "text/plain": [
       "[60, 31, 207, 207, 19]"
      ]
     },
     "execution_count": 9,
     "metadata": {},
     "output_type": "execute_result"
    }
   ],
   "source": [
    "return_encryption()"
   ]
  },
  {
   "cell_type": "code",
   "execution_count": 10,
   "metadata": {},
   "outputs": [
    {
     "name": "stdout",
     "output_type": "stream",
     "text": [
      "Please copy this encryption list, run the decryption.py file, and paste the encryption list when prompted.\n",
      "\n",
      "\n",
      "\n",
      "\n"
     ]
    }
   ],
   "source": [
    "print('Please copy this encryption list, run the decryption.py file, and paste the encryption list when prompted.')\n",
    "print(f'\\n\\n\\n')"
   ]
  },
  {
   "cell_type": "code",
   "execution_count": null,
   "metadata": {},
   "outputs": [],
   "source": []
  }
 ],
 "metadata": {
  "kernelspec": {
   "display_name": "Python 3",
   "language": "python",
   "name": "python3"
  },
  "language_info": {
   "codemirror_mode": {
    "name": "ipython",
    "version": 3
   },
   "file_extension": ".py",
   "mimetype": "text/x-python",
   "name": "python",
   "nbconvert_exporter": "python",
   "pygments_lexer": "ipython3",
   "version": "3.6.7"
  }
 },
 "nbformat": 4,
 "nbformat_minor": 2
}
