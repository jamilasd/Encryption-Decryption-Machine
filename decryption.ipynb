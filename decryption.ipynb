{
 "cells": [
  {
   "cell_type": "markdown",
   "metadata": {},
   "source": [
    "## Decryption Machine\n",
    "### Created by: Jamila Smith-Dell\n",
    "#### April 11, 2021\n",
    "\n",
    "![Windows](decryption_image.png)"
   ]
  },
  {
   "cell_type": "markdown",
   "metadata": {},
   "source": [
    "## Import the relevant libraries"
   ]
  },
  {
   "cell_type": "code",
   "execution_count": 9,
   "metadata": {},
   "outputs": [],
   "source": [
    "import math\n",
    "import random\n",
    "import string"
   ]
  },
  {
   "cell_type": "markdown",
   "metadata": {},
   "source": [
    "## Import relevant variables from the Encryption Machine\n",
    "In order to bring over the shared variables between the encryption and decryption machines, I will ask which prime numbers the user chose for the encryption."
   ]
  },
  {
   "cell_type": "code",
   "execution_count": 8,
   "metadata": {},
   "outputs": [
    {
     "name": "stdout",
     "output_type": "stream",
     "text": [
      "For the encryption, what number did you choose for p? 13\n",
      "For the encryption, what number did you choose for q? 17\n",
      "For the encryption, what number did you choose for e? 5\n",
      "\n",
      "Great! p = 13, q = 17, e = 5\n"
     ]
    }
   ],
   "source": [
    "p = int(input('For the encryption, what number did you choose for p? '))\n",
    "q = int(input('For the encryption, what number did you choose for q? '))\n",
    "e = int(input('For the encryption, what number did you choose for e? '))\n",
    "\n",
    "n = q * p\n",
    "\n",
    "letters = {}\n",
    "value = 0\n",
    "\n",
    "\n",
    "for letter in string.ascii_lowercase:\n",
    "    value += 1\n",
    "    letters[letter] = value\n",
    "\n",
    "#add common punctuation\n",
    "punctuation = [' ','.',\"’\",\"'\",\"!\",\"?\",\"/\",\",\",'\"',\":\"]\n",
    "\n",
    "\n",
    "for punct in punctuation:\n",
    "    value += 1\n",
    "    letters[punct] = value\n",
    "\n",
    "c_list = [] #cipher list\n",
    "\n",
    "for letter in letters:\n",
    "    c = (letters[letter] ** e) % n\n",
    "    c_list.append(c)\n",
    "\n",
    "print(f'\\nGreat! p = {p}, q = {q}, e = {e}\\n')"
   ]
  },
  {
   "cell_type": "markdown",
   "metadata": {},
   "source": [
    "## Decryption\n",
    "Here the user will provide the list they got at the end of the encryption process and will receive a decrypted message in return once they opt to decrypt the message. I'm assuming the message is private, and in everyday circumstances, you wouldn't want a secure message to print unless you're ready."
   ]
  },
  {
   "cell_type": "code",
   "execution_count": null,
   "metadata": {},
   "outputs": [],
   "source": [
    "def decryption():\n",
    "    \"\"\"\n",
    "    This function decrypts the encryption list from the encryption machine \n",
    "    back to a message that is readable. \n",
    "    \n",
    "    Arguments: \n",
    "    - User input for the encryption list that will be decrypted\n",
    "    \n",
    "    Outputs:\n",
    "    - A user input prompt asking the user if they want to decrypt the private message\n",
    "    - String with the message that was decrypted which is the original message that was \n",
    "    provided to the encryption machine\n",
    "    \"\"\"\n",
    "    \n",
    "    encrypt_result = input('What message are you trying to decrypt? Hint, please paste the encryption result here: ')\n",
    "    encrypt_result = encrypt_result.replace('[','').replace(']','').replace(' ','').split(',')\n",
    "    \n",
    "    print(f'\\n\\n')\n",
    "\n",
    "    encrypt_list = []\n",
    "    \n",
    "    for value in encrypt_result:\n",
    "        value_int = int(value)\n",
    "        encrypt_list.append(value_int)\n",
    "    \n",
    "    decryption_list = []\n",
    "    values_list = list(letters.keys())\n",
    "\n",
    "    for number in encrypt_list:\n",
    "        if number in c_list:\n",
    "            position = c_list.index(number)\n",
    "            decryption_list.append(values_list[position])\n",
    "\n",
    "    # print(decryption_list) #just to check\n",
    "\n",
    "    raw_decryption = ''.join(decryption_list)\n",
    "    decryption_sentences = raw_decryption.split('. ')\n",
    "\n",
    "    new_sentences = []\n",
    "    for sentence in decryption_sentences:\n",
    "        new_sentences.append(sentence.capitalize())\n",
    "\n",
    "    decryption = '. '.join(new_sentences)\n",
    "\n",
    "    decrypt_request = input('Type \"q\" to quit. Would you like to decrypt this secure message (y/n)? ')\n",
    "\n",
    "    while decrypt_request:\n",
    "        if decrypt_request == 'n':\n",
    "            print('Sorry! You must type \"y\" to decrypt this message. ')\n",
    "            decrypt_request = input('Would you like to decrypt this secure message (y/n)? ')\n",
    "        elif decrypt_request == 'y':\n",
    "            print(f'\\nYour decryption was successful! The message is: \\n\\n\\t{decryption}\\n')\n",
    "            break\n",
    "        elif decrypt_request == 'q':\n",
    "            break\n",
    "        else:\n",
    "            print('Please type either \"y\" or \"n\".')\n",
    "            decrypt_request = input('Would you like to decrypt this secure message (y/n)? ')\n",
    "            \n",
    "    return decryption"
   ]
  },
  {
   "cell_type": "code",
   "execution_count": null,
   "metadata": {},
   "outputs": [],
   "source": [
    "decryption()"
   ]
  },
  {
   "cell_type": "code",
   "execution_count": null,
   "metadata": {},
   "outputs": [],
   "source": []
  },
  {
   "cell_type": "code",
   "execution_count": null,
   "metadata": {},
   "outputs": [],
   "source": []
  }
 ],
 "metadata": {
  "kernelspec": {
   "display_name": "Python 3",
   "language": "python",
   "name": "python3"
  },
  "language_info": {
   "codemirror_mode": {
    "name": "ipython",
    "version": 3
   },
   "file_extension": ".py",
   "mimetype": "text/x-python",
   "name": "python",
   "nbconvert_exporter": "python",
   "pygments_lexer": "ipython3",
   "version": "3.6.7"
  }
 },
 "nbformat": 4,
 "nbformat_minor": 2
}
