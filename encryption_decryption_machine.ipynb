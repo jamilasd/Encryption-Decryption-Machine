{
 "cells": [
  {
   "cell_type": "markdown",
   "metadata": {},
   "source": [
    "## Encryption Decryption Machine\n",
    "### Created by: Jamila Smith-Dell\n",
    "#### April 3, 2021"
   ]
  },
  {
   "cell_type": "markdown",
   "metadata": {},
   "source": [
    "#### Import the relevant libraries"
   ]
  },
  {
   "cell_type": "code",
   "execution_count": 1,
   "metadata": {},
   "outputs": [],
   "source": [
    "import math\n",
    "import random"
   ]
  },
  {
   "cell_type": "markdown",
   "metadata": {},
   "source": [
    "#### Create a function that can check if p and q are prime or not\n",
    "\n",
    "I will use user input to define p and q so I'll need a way to make sure the numbers are actually prime and q is actually greater than p."
   ]
  },
  {
   "cell_type": "code",
   "execution_count": 2,
   "metadata": {},
   "outputs": [],
   "source": [
    "def prime_check(number):\n",
    "    \n",
    "    \"\"\"\n",
    "    This function checks if a number is prime or not, \n",
    "    if the number is greater than 1, and if q is greater than p.\n",
    "    \n",
    "    Arguments: \n",
    "    - Any number\n",
    "    \n",
    "    Outputs:\n",
    "    - Error message if the number is not prime or not greater than 1\n",
    "    - Error message if q is less than p\n",
    "    - Success message if the number is prime\n",
    "    - The boolean of the 'check' variable if the number is prime or not\n",
    "    \n",
    "    \"\"\"\n",
    "    \n",
    "    if number > 1:\n",
    "        for i in range(2, number):\n",
    "            if number % i == 0:\n",
    "                print(f'{number} is not a prime number, please choose again!')\n",
    "                check = False\n",
    "                break\n",
    "            else:\n",
    "                print(f'{number} is a prime number, perfect!')\n",
    "                check = True\n",
    "                break\n",
    "    else:\n",
    "        print(f'{number} is not greater than 1, please choose again.')\n",
    "        check = False\n",
    "        \n",
    "    return check"
   ]
  },
  {
   "cell_type": "markdown",
   "metadata": {},
   "source": [
    "#### Ask the user for a prime number\n",
    "This while loop will run the prime_check function above to check the user input and prompt for them to input another number if needed."
   ]
  },
  {
   "cell_type": "code",
   "execution_count": 3,
   "metadata": {},
   "outputs": [
    {
     "name": "stdout",
     "output_type": "stream",
     "text": [
      "Please type \"q\" to quit. Please select a prime number (p): 13\n",
      "13 is a prime number, perfect!\n",
      "\n",
      "Please select a prime number (q), greater than p: 17\n",
      "17 is a prime number, perfect!\n",
      "\n",
      "Great job! p = 13 and q = 17\n"
     ]
    }
   ],
   "source": [
    "p = 1\n",
    "\n",
    "while p != \"q\":\n",
    "    p = input('Please type \"q\" to quit. Please select a prime number (p): ')\n",
    "    if p =='q':\n",
    "        break\n",
    "    else: \n",
    "        p = int(p)\n",
    "        check = prime_check(p)\n",
    "        if check == False:\n",
    "            p = int(input('Sorry! Please select an a prime number (p) greater than 1: '))\n",
    "        else: \n",
    "            check = True\n",
    "            while check:\n",
    "                q = int(input('\\nPlease select a prime number (q), greater than p: '))\n",
    "                if q > p:\n",
    "                    check = prime_check(q)\n",
    "                    if check == False:\n",
    "                        q = int(input('\\nPlease select an actual prime number (q), greater than p: '))\n",
    "                    else:\n",
    "                        break\n",
    "            print(f'\\nGreat job! p = {p} and q = {q}')            \n",
    "            break"
   ]
  },
  {
   "cell_type": "markdown",
   "metadata": {},
   "source": [
    "#### Ask the user for a value for e\n",
    "I will then use a series of if statements to make sure phi_n is not divisible by e and e is greater than 1 and less than phi_n."
   ]
  },
  {
   "cell_type": "code",
   "execution_count": 4,
   "metadata": {},
   "outputs": [
    {
     "name": "stdout",
     "output_type": "stream",
     "text": [
      "Please type \"q\" to quit. Please choose a number greater than 1 and less than 192 q\n"
     ]
    }
   ],
   "source": [
    "if p and q:\n",
    "    n = p * q\n",
    "    phi_n = int((p - 1) * (q - 1))\n",
    "else: \n",
    "    default_p = 13\n",
    "    default_q = 17\n",
    "    n = default_p * default_q\n",
    "    phi_n = int((default_p - 1) * (default_q - 1))\n",
    "\n",
    "e = input(f'Please type \"q\" to quit. Please choose a number greater than 1 and less than {phi_n} ')\n",
    "\n",
    "check_e = True\n",
    "\n",
    "while check_e:\n",
    "    if e == \"q\":\n",
    "        break\n",
    "    else:\n",
    "        e = int(e)\n",
    "        if e > 1 and e < 10:\n",
    "            if e < phi_n:\n",
    "                if math.gcd(phi_n, e):\n",
    "                    print(f'Awesome! There is no greatest common divisor between {phi_n} and {e}.')\n",
    "                    break\n",
    "                else:\n",
    "                    print('')\n",
    "                    e = int(input(f'Something is wrong. Please choose a different value for e. '))\n",
    "            else:\n",
    "                e = int(input(f'Something is wrong. Please choose a different value for e. '))\n",
    "        else:\n",
    "            e = int(input(f'Please choose a value for e that is less than 10. '))"
   ]
  },
  {
   "cell_type": "markdown",
   "metadata": {},
   "source": [
    "#### Calculate the private key (d)\n",
    "Check to make sure all numbers are integers."
   ]
  },
  {
   "cell_type": "code",
   "execution_count": 5,
   "metadata": {},
   "outputs": [
    {
     "ename": "TypeError",
     "evalue": "unsupported operand type(s) for /: 'int' and 'str'",
     "output_type": "error",
     "traceback": [
      "\u001b[0;31m---------------------------------------------------------------------------\u001b[0m",
      "\u001b[0;31mTypeError\u001b[0m                                 Traceback (most recent call last)",
      "\u001b[0;32m<ipython-input-5-5ec3bb0fbeb4>\u001b[0m in \u001b[0;36m<module>\u001b[0;34m\u001b[0m\n\u001b[1;32m      1\u001b[0m \u001b[0mi\u001b[0m \u001b[0;34m=\u001b[0m \u001b[0mrandom\u001b[0m\u001b[0;34m.\u001b[0m\u001b[0mrandint\u001b[0m\u001b[0;34m(\u001b[0m\u001b[0;36m1\u001b[0m\u001b[0;34m,\u001b[0m\u001b[0;36m100\u001b[0m\u001b[0;34m)\u001b[0m\u001b[0;34m\u001b[0m\u001b[0;34m\u001b[0m\u001b[0m\n\u001b[1;32m      2\u001b[0m \u001b[0;34m\u001b[0m\u001b[0m\n\u001b[0;32m----> 3\u001b[0;31m \u001b[0md\u001b[0m \u001b[0;34m=\u001b[0m \u001b[0mint\u001b[0m\u001b[0;34m(\u001b[0m\u001b[0;34m(\u001b[0m\u001b[0mi\u001b[0m \u001b[0;34m*\u001b[0m \u001b[0mphi_n\u001b[0m \u001b[0;34m+\u001b[0m \u001b[0;36m1\u001b[0m\u001b[0;34m)\u001b[0m \u001b[0;34m/\u001b[0m \u001b[0me\u001b[0m\u001b[0;34m)\u001b[0m\u001b[0;34m\u001b[0m\u001b[0;34m\u001b[0m\u001b[0m\n\u001b[0m\u001b[1;32m      4\u001b[0m \u001b[0;34m\u001b[0m\u001b[0m\n\u001b[1;32m      5\u001b[0m print(f'\\np = {p} \\nq = {q} \\nn = {n} \\nphi_n = {phi_n} \\\n",
      "\u001b[0;31mTypeError\u001b[0m: unsupported operand type(s) for /: 'int' and 'str'"
     ]
    }
   ],
   "source": [
    "i = random.randint(1,100)\n",
    "\n",
    "d = int((i * phi_n + 1) / e)\n",
    "\n",
    "print(f'\\np = {p} \\nq = {q} \\nn = {n} \\nphi_n = {phi_n} \\\n",
    "        \\ne = {e} \\nd = {d} \\ni = {i}') "
   ]
  },
  {
   "cell_type": "markdown",
   "metadata": {},
   "source": [
    "#### Encrypt using a public key\n",
    "The c_list is the list of cipher values."
   ]
  },
  {
   "cell_type": "code",
   "execution_count": null,
   "metadata": {},
   "outputs": [],
   "source": [
    "letters = {\n",
    "    'a': 1,\n",
    "    'b': 2,\n",
    "    'c': 3,\n",
    "    'd': 4,\n",
    "    'e': 5,\n",
    "    'f': 6,\n",
    "    'g': 7,\n",
    "    'h': 8,\n",
    "    'i': 9,\n",
    "    'j': 10,\n",
    "    'k': 11,\n",
    "    'l': 12,\n",
    "    'm': 13,\n",
    "    'n': 14,\n",
    "    'o': 15,\n",
    "    'p': 16,\n",
    "    'q': 17,\n",
    "    'r': 18,\n",
    "    's': 19,\n",
    "    't': 20,\n",
    "    'u': 21,\n",
    "    'v': 22,\n",
    "    'w': 23,\n",
    "    'x': 24,\n",
    "    'y': 25,\n",
    "    'z': 26,\n",
    "    ' ': 27,\n",
    "    '.': 28,\n",
    "    \"'\": 29,\n",
    "    \"’\": 30,\n",
    "          }\n",
    "\n",
    "c_list = [] #cipher list\n",
    "\n",
    "for letter in letters:\n",
    "    c = (letters[letter] ** e) % n\n",
    "    c_list.append(c)\n",
    "    \n",
    "# print(c_list) #just to check that it worked"
   ]
  },
  {
   "cell_type": "markdown",
   "metadata": {},
   "source": [
    "#### Test Encryption\n",
    "User inputs the message that they want encrypted. The result is printed without spaces or punctiation."
   ]
  },
  {
   "cell_type": "code",
   "execution_count": null,
   "metadata": {},
   "outputs": [],
   "source": [
    "encryption = input('What message do you want to encrypt? ').lower()\n",
    "\n",
    "encrypt_list = []\n",
    "\n",
    "for value in encryption:\n",
    "    c = (letters[value] ** e) % n\n",
    "    encrypt_list.append(c)\n",
    "\n",
    "encrypt_list_str = []\n",
    "\n",
    "for value in encrypt_list:\n",
    "    encrypt_list_str.append(str(value))\n",
    "    \n",
    "encryption_result = ''.join(encrypt_list_str)\n",
    "print(f'\\nYour encryption was successful, here is the result: {encryption_result}.')"
   ]
  },
  {
   "cell_type": "markdown",
   "metadata": {},
   "source": [
    "#### Test Decryption\n",
    "The recipient of the encrypted message can then check to see what the message is."
   ]
  },
  {
   "cell_type": "code",
   "execution_count": null,
   "metadata": {},
   "outputs": [],
   "source": [
    "decryption_list = []\n",
    "values_list = list(letters.keys())\n",
    "\n",
    "for number in encrypt_list:\n",
    "    if number in c_list:\n",
    "        position = c_list.index(number)\n",
    "        decryption_list.append(values_list[position])\n",
    "        \n",
    "# print(decryption_list) #just to check\n",
    "\n",
    "raw_decryption = ''.join(decryption_list)\n",
    "decryption_sentences = raw_decryption.split('. ')\n",
    "\n",
    "new_sentences = []\n",
    "for sentence in decryption_sentences:\n",
    "    new_sentences.append(sentence.capitalize())\n",
    "\n",
    "decryption = '. '.join(new_sentences)\n",
    "\n",
    "decrypt_request = input('Type \"q\" to quit. Would you like to decrypt this secure message (y/n)? ')\n",
    "\n",
    "while decrypt_request:\n",
    "    if decrypt_request == 'n':\n",
    "        print('Sorry! You must type \"y\" to decrypt this message. ')\n",
    "        decrypt_request = input('Would you like to decrypt this secure message (y/n)? ')\n",
    "    elif decrypt_request == 'y':\n",
    "        print(f'\\nYour decryption was successful! The message is: \\n\\n\\t{decryption}')\n",
    "        break\n",
    "    elif decrypt_request == 'q':\n",
    "        break\n",
    "    else:\n",
    "        print('Please type either \"y\" or \"n\".')\n",
    "        decrypt_request = input('Would you like to decrypt this secure message (y/n)? ')"
   ]
  },
  {
   "cell_type": "code",
   "execution_count": null,
   "metadata": {},
   "outputs": [],
   "source": []
  },
  {
   "cell_type": "code",
   "execution_count": null,
   "metadata": {},
   "outputs": [],
   "source": []
  },
  {
   "cell_type": "code",
   "execution_count": null,
   "metadata": {},
   "outputs": [],
   "source": []
  }
 ],
 "metadata": {
  "kernelspec": {
   "display_name": "Python 3",
   "language": "python",
   "name": "python3"
  },
  "language_info": {
   "codemirror_mode": {
    "name": "ipython",
    "version": 3
   },
   "file_extension": ".py",
   "mimetype": "text/x-python",
   "name": "python",
   "nbconvert_exporter": "python",
   "pygments_lexer": "ipython3",
   "version": "3.6.7"
  }
 },
 "nbformat": 4,
 "nbformat_minor": 2
}
